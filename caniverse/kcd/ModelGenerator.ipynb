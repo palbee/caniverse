{
 "cells": [
  {
   "cell_type": "code",
   "execution_count": null,
   "metadata": {
    "collapsed": false
   },
   "outputs": [],
   "source": [
    "import xml.etree.ElementTree as ET\n",
    "tree = ET.parse(\"./kayak.xsd\")\n",
    "ns={'xs':\"http://www.w3.org/2001/XMLSchema\"}\n",
    "root = tree.getroot()"
   ]
  },
  {
   "cell_type": "code",
   "execution_count": null,
   "metadata": {
    "collapsed": false
   },
   "outputs": [],
   "source": [
    "root.tag"
   ]
  },
  {
   "cell_type": "code",
   "execution_count": null,
   "metadata": {
    "collapsed": false,
    "scrolled": true
   },
   "outputs": [],
   "source": [
    "for child in root:\n",
    "    model_name = child.attrib['name']\n",
    "    doc = child.find(\"xs:annotation/xs:documentation\", ns)\n",
    "    if doc is None:\n",
    "        print(\"class {}(models.Model):\\n    pass\\n\\n\".format(model_name))\n",
    "    else:\n",
    "        print(\"class {}(models.Model):\\n    \\\"\\\"\\\"{}\\\"\\\"\\\"\\n    pass\\n\\n\".format(model_name, doc.text))"
   ]
  },
  {
   "cell_type": "code",
   "execution_count": null,
   "metadata": {
    "collapsed": true
   },
   "outputs": [],
   "source": [
    ""
   ]
  }
 ],
 "metadata": {
  "kernelspec": {
   "display_name": "Python 3",
   "language": "python",
   "name": "python3"
  },
  "language_info": {
   "codemirror_mode": {
    "name": "ipython",
    "version": 3.0
   },
   "file_extension": ".py",
   "mimetype": "text/x-python",
   "name": "python",
   "nbconvert_exporter": "python",
   "pygments_lexer": "ipython3",
   "version": "3.5.1"
  }
 },
 "nbformat": 4,
 "nbformat_minor": 0
}